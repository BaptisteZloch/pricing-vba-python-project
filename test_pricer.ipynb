{
 "cells": [
  {
   "cell_type": "code",
   "execution_count": 1,
   "metadata": {},
   "outputs": [],
   "source": [
    "from pricing_library.market import MarketData\n",
    "from pricing_library.option import Option\n",
    "from pricing_library.trinomial_tree import TrinomialTree\n",
    "\n",
    "from datetime import datetime"
   ]
  },
  {
   "cell_type": "code",
   "execution_count": 2,
   "metadata": {},
   "outputs": [
    {
     "ename": "RecursionError",
     "evalue": "maximum recursion depth exceeded while calling a Python object",
     "output_type": "error",
     "traceback": [
      "\u001b[0;31m---------------------------------------------------------------------------\u001b[0m",
      "\u001b[0;31mRecursionError\u001b[0m                            Traceback (most recent call last)",
      "\u001b[1;32m/home/baptiste/myworkdir/vba-python-project/test_pricer.ipynb Cell 2\u001b[0m line \u001b[0;36m1\n\u001b[1;32m      <a href='vscode-notebook-cell://wsl%2Bubuntu/home/baptiste/myworkdir/vba-python-project/test_pricer.ipynb#W1sdnNjb2RlLXJlbW90ZQ%3D%3D?line=0'>1</a>\u001b[0m mkt \u001b[39m=\u001b[39m MarketData(\n\u001b[1;32m      <a href='vscode-notebook-cell://wsl%2Bubuntu/home/baptiste/myworkdir/vba-python-project/test_pricer.ipynb#W1sdnNjb2RlLXJlbW90ZQ%3D%3D?line=1'>2</a>\u001b[0m     interest_rate\u001b[39m=\u001b[39m\u001b[39m0.04\u001b[39m,\n\u001b[1;32m      <a href='vscode-notebook-cell://wsl%2Bubuntu/home/baptiste/myworkdir/vba-python-project/test_pricer.ipynb#W1sdnNjb2RlLXJlbW90ZQ%3D%3D?line=2'>3</a>\u001b[0m     volatility\u001b[39m=\u001b[39m\u001b[39m0.2\u001b[39m,\n\u001b[0;32m   (...)\u001b[0m\n\u001b[1;32m      <a href='vscode-notebook-cell://wsl%2Bubuntu/home/baptiste/myworkdir/vba-python-project/test_pricer.ipynb#W1sdnNjb2RlLXJlbW90ZQ%3D%3D?line=5'>6</a>\u001b[0m     dividend_ex_date\u001b[39m=\u001b[39mdatetime(\u001b[39m2020\u001b[39m, \u001b[39m6\u001b[39m, \u001b[39m1\u001b[39m),\n\u001b[1;32m      <a href='vscode-notebook-cell://wsl%2Bubuntu/home/baptiste/myworkdir/vba-python-project/test_pricer.ipynb#W1sdnNjb2RlLXJlbW90ZQ%3D%3D?line=6'>7</a>\u001b[0m )\n\u001b[1;32m      <a href='vscode-notebook-cell://wsl%2Bubuntu/home/baptiste/myworkdir/vba-python-project/test_pricer.ipynb#W1sdnNjb2RlLXJlbW90ZQ%3D%3D?line=7'>8</a>\u001b[0m opt \u001b[39m=\u001b[39m Option(\n\u001b[1;32m      <a href='vscode-notebook-cell://wsl%2Bubuntu/home/baptiste/myworkdir/vba-python-project/test_pricer.ipynb#W1sdnNjb2RlLXJlbW90ZQ%3D%3D?line=8'>9</a>\u001b[0m     option_type\u001b[39m=\u001b[39m\u001b[39m\"\u001b[39m\u001b[39mcall\u001b[39m\u001b[39m\"\u001b[39m,\n\u001b[1;32m     <a href='vscode-notebook-cell://wsl%2Bubuntu/home/baptiste/myworkdir/vba-python-project/test_pricer.ipynb#W1sdnNjb2RlLXJlbW90ZQ%3D%3D?line=9'>10</a>\u001b[0m     exercise_type\u001b[39m=\u001b[39m\u001b[39m\"\u001b[39m\u001b[39meu\u001b[39m\u001b[39m\"\u001b[39m,\n\u001b[1;32m     <a href='vscode-notebook-cell://wsl%2Bubuntu/home/baptiste/myworkdir/vba-python-project/test_pricer.ipynb#W1sdnNjb2RlLXJlbW90ZQ%3D%3D?line=10'>11</a>\u001b[0m     strike_price\u001b[39m=\u001b[39m\u001b[39m100\u001b[39m,\n\u001b[1;32m     <a href='vscode-notebook-cell://wsl%2Bubuntu/home/baptiste/myworkdir/vba-python-project/test_pricer.ipynb#W1sdnNjb2RlLXJlbW90ZQ%3D%3D?line=11'>12</a>\u001b[0m     maturity_date\u001b[39m=\u001b[39mdatetime(\u001b[39m2021\u001b[39m, \u001b[39m1\u001b[39m, \u001b[39m1\u001b[39m),\n\u001b[1;32m     <a href='vscode-notebook-cell://wsl%2Bubuntu/home/baptiste/myworkdir/vba-python-project/test_pricer.ipynb#W1sdnNjb2RlLXJlbW90ZQ%3D%3D?line=12'>13</a>\u001b[0m )\n\u001b[0;32m---> <a href='vscode-notebook-cell://wsl%2Bubuntu/home/baptiste/myworkdir/vba-python-project/test_pricer.ipynb#W1sdnNjb2RlLXJlbW90ZQ%3D%3D?line=14'>15</a>\u001b[0m t \u001b[39m=\u001b[39m TrinomialTree(mkt, opt, datetime(\u001b[39m2020\u001b[39;49m, \u001b[39m1\u001b[39;49m, \u001b[39m1\u001b[39;49m), \u001b[39m100\u001b[39;49m)\n",
      "File \u001b[0;32m~/myworkdir/vba-python-project/pricing_library/trinomial_tree.py:40\u001b[0m, in \u001b[0;36mTrinomialTree.__init__\u001b[0;34m(self, market, option, pricing_date, n_steps)\u001b[0m\n\u001b[1;32m     36\u001b[0m \u001b[39mself\u001b[39m\u001b[39m.\u001b[39mdelta_t \u001b[39m=\u001b[39m \u001b[39mabs\u001b[39m(\n\u001b[1;32m     37\u001b[0m     ((\u001b[39mself\u001b[39m\u001b[39m.\u001b[39moption\u001b[39m.\u001b[39mmaturity_date \u001b[39m-\u001b[39m pricing_date)\u001b[39m.\u001b[39mdays \u001b[39m/\u001b[39m \u001b[39mself\u001b[39m\u001b[39m.\u001b[39mn_days) \u001b[39m/\u001b[39m n_steps\n\u001b[1;32m     38\u001b[0m )\n\u001b[1;32m     39\u001b[0m \u001b[39mself\u001b[39m\u001b[39m.\u001b[39malpha \u001b[39m=\u001b[39m \u001b[39mself\u001b[39m\u001b[39m.\u001b[39mcalculate_alpha()\n\u001b[0;32m---> 40\u001b[0m \u001b[39mself\u001b[39m\u001b[39m.\u001b[39mroot \u001b[39m=\u001b[39m Node(market\u001b[39m.\u001b[39;49mspot_price, \u001b[39mself\u001b[39;49m)\n",
      "File \u001b[0;32m~/myworkdir/vba-python-project/pricing_library/node.py:25\u001b[0m, in \u001b[0;36mNode.__init__\u001b[0;34m(self, spot_price, tree)\u001b[0m\n\u001b[1;32m     22\u001b[0m \u001b[39mself\u001b[39m\u001b[39m.\u001b[39mup_price \u001b[39m=\u001b[39m \u001b[39mself\u001b[39m\u001b[39m.\u001b[39mtree\u001b[39m.\u001b[39malpha \u001b[39m*\u001b[39m \u001b[39mself\u001b[39m\u001b[39m.\u001b[39mforward_price\n\u001b[1;32m     23\u001b[0m \u001b[39mself\u001b[39m\u001b[39m.\u001b[39mdown_price \u001b[39m=\u001b[39m \u001b[39mself\u001b[39m\u001b[39m.\u001b[39mforward_price \u001b[39m/\u001b[39m \u001b[39mself\u001b[39m\u001b[39m.\u001b[39mtree\u001b[39m.\u001b[39malpha\n\u001b[0;32m---> 25\u001b[0m n \u001b[39m=\u001b[39m Node(\u001b[39mself\u001b[39;49m\u001b[39m.\u001b[39;49mforward_price, \u001b[39mself\u001b[39;49m\u001b[39m.\u001b[39;49mtree)\n\u001b[1;32m     26\u001b[0m \u001b[39mself\u001b[39m\u001b[39m.\u001b[39mnext_mid_node \u001b[39m=\u001b[39m n\n\u001b[1;32m     27\u001b[0m n_up \u001b[39m=\u001b[39m Node(\u001b[39mself\u001b[39m\u001b[39m.\u001b[39mup_price, \u001b[39mself\u001b[39m\u001b[39m.\u001b[39mtree)\n",
      "File \u001b[0;32m~/myworkdir/vba-python-project/pricing_library/node.py:25\u001b[0m, in \u001b[0;36mNode.__init__\u001b[0;34m(self, spot_price, tree)\u001b[0m\n\u001b[1;32m     22\u001b[0m \u001b[39mself\u001b[39m\u001b[39m.\u001b[39mup_price \u001b[39m=\u001b[39m \u001b[39mself\u001b[39m\u001b[39m.\u001b[39mtree\u001b[39m.\u001b[39malpha \u001b[39m*\u001b[39m \u001b[39mself\u001b[39m\u001b[39m.\u001b[39mforward_price\n\u001b[1;32m     23\u001b[0m \u001b[39mself\u001b[39m\u001b[39m.\u001b[39mdown_price \u001b[39m=\u001b[39m \u001b[39mself\u001b[39m\u001b[39m.\u001b[39mforward_price \u001b[39m/\u001b[39m \u001b[39mself\u001b[39m\u001b[39m.\u001b[39mtree\u001b[39m.\u001b[39malpha\n\u001b[0;32m---> 25\u001b[0m n \u001b[39m=\u001b[39m Node(\u001b[39mself\u001b[39;49m\u001b[39m.\u001b[39;49mforward_price, \u001b[39mself\u001b[39;49m\u001b[39m.\u001b[39;49mtree)\n\u001b[1;32m     26\u001b[0m \u001b[39mself\u001b[39m\u001b[39m.\u001b[39mnext_mid_node \u001b[39m=\u001b[39m n\n\u001b[1;32m     27\u001b[0m n_up \u001b[39m=\u001b[39m Node(\u001b[39mself\u001b[39m\u001b[39m.\u001b[39mup_price, \u001b[39mself\u001b[39m\u001b[39m.\u001b[39mtree)\n",
      "    \u001b[0;31m[... skipping similar frames: Node.__init__ at line 25 (1481 times)]\u001b[0m\n",
      "File \u001b[0;32m~/myworkdir/vba-python-project/pricing_library/node.py:25\u001b[0m, in \u001b[0;36mNode.__init__\u001b[0;34m(self, spot_price, tree)\u001b[0m\n\u001b[1;32m     22\u001b[0m \u001b[39mself\u001b[39m\u001b[39m.\u001b[39mup_price \u001b[39m=\u001b[39m \u001b[39mself\u001b[39m\u001b[39m.\u001b[39mtree\u001b[39m.\u001b[39malpha \u001b[39m*\u001b[39m \u001b[39mself\u001b[39m\u001b[39m.\u001b[39mforward_price\n\u001b[1;32m     23\u001b[0m \u001b[39mself\u001b[39m\u001b[39m.\u001b[39mdown_price \u001b[39m=\u001b[39m \u001b[39mself\u001b[39m\u001b[39m.\u001b[39mforward_price \u001b[39m/\u001b[39m \u001b[39mself\u001b[39m\u001b[39m.\u001b[39mtree\u001b[39m.\u001b[39malpha\n\u001b[0;32m---> 25\u001b[0m n \u001b[39m=\u001b[39m Node(\u001b[39mself\u001b[39;49m\u001b[39m.\u001b[39;49mforward_price, \u001b[39mself\u001b[39;49m\u001b[39m.\u001b[39;49mtree)\n\u001b[1;32m     26\u001b[0m \u001b[39mself\u001b[39m\u001b[39m.\u001b[39mnext_mid_node \u001b[39m=\u001b[39m n\n\u001b[1;32m     27\u001b[0m n_up \u001b[39m=\u001b[39m Node(\u001b[39mself\u001b[39m\u001b[39m.\u001b[39mup_price, \u001b[39mself\u001b[39m\u001b[39m.\u001b[39mtree)\n",
      "File \u001b[0;32m~/myworkdir/vba-python-project/pricing_library/node.py:19\u001b[0m, in \u001b[0;36mNode.__init__\u001b[0;34m(self, spot_price, tree)\u001b[0m\n\u001b[1;32m     17\u001b[0m \u001b[39mself\u001b[39m\u001b[39m.\u001b[39mtree \u001b[39m=\u001b[39m tree\n\u001b[1;32m     18\u001b[0m \u001b[39mself\u001b[39m\u001b[39m.\u001b[39mspot_price \u001b[39m=\u001b[39m spot_price\n\u001b[0;32m---> 19\u001b[0m \u001b[39mself\u001b[39m\u001b[39m.\u001b[39mforward_price \u001b[39m=\u001b[39m calculate_forward_price(\n\u001b[1;32m     20\u001b[0m     \u001b[39mself\u001b[39;49m\u001b[39m.\u001b[39;49mspot_price, tree\u001b[39m.\u001b[39;49mmarket\u001b[39m.\u001b[39;49minterest_rate, \u001b[39mself\u001b[39;49m\u001b[39m.\u001b[39;49mtree\u001b[39m.\u001b[39;49mdelta_t\n\u001b[1;32m     21\u001b[0m )\n\u001b[1;32m     22\u001b[0m \u001b[39mself\u001b[39m\u001b[39m.\u001b[39mup_price \u001b[39m=\u001b[39m \u001b[39mself\u001b[39m\u001b[39m.\u001b[39mtree\u001b[39m.\u001b[39malpha \u001b[39m*\u001b[39m \u001b[39mself\u001b[39m\u001b[39m.\u001b[39mforward_price\n\u001b[1;32m     23\u001b[0m \u001b[39mself\u001b[39m\u001b[39m.\u001b[39mdown_price \u001b[39m=\u001b[39m \u001b[39mself\u001b[39m\u001b[39m.\u001b[39mforward_price \u001b[39m/\u001b[39m \u001b[39mself\u001b[39m\u001b[39m.\u001b[39mtree\u001b[39m.\u001b[39malpha\n",
      "File \u001b[0;32m~/myworkdir/vba-python-project/pricing_library/utils.py:15\u001b[0m, in \u001b[0;36mcalculate_forward_price\u001b[0;34m(spot_price, interest_rates, delta_t)\u001b[0m\n\u001b[1;32m     12\u001b[0m \u001b[39mdef\u001b[39;00m \u001b[39mcalculate_forward_price\u001b[39m(\n\u001b[1;32m     13\u001b[0m     spot_price: \u001b[39mfloat\u001b[39m, interest_rates: \u001b[39mfloat\u001b[39m, delta_t: \u001b[39mfloat\u001b[39m\n\u001b[1;32m     14\u001b[0m ) \u001b[39m-\u001b[39m\u001b[39m>\u001b[39m \u001b[39mfloat\u001b[39m:\n\u001b[0;32m---> 15\u001b[0m     \u001b[39mreturn\u001b[39;00m spot_price \u001b[39m*\u001b[39m exp(interest_rates \u001b[39m*\u001b[39;49m delta_t)\n",
      "\u001b[0;31mRecursionError\u001b[0m: maximum recursion depth exceeded while calling a Python object"
     ]
    }
   ],
   "source": [
    "mkt = MarketData(\n",
    "    interest_rate=0.04,\n",
    "    volatility=0.2,\n",
    "    spot_price=100,\n",
    "    dividend_price=3,\n",
    "    dividend_ex_date=datetime(2020, 6, 1),\n",
    ")\n",
    "opt = Option(\n",
    "    option_type=\"call\",\n",
    "    exercise_type=\"eu\",\n",
    "    strike_price=100,\n",
    "    maturity_date=datetime(2021, 1, 1),\n",
    ")\n",
    "\n",
    "t = TrinomialTree(mkt, opt, datetime(2020, 1, 1), 100)"
   ]
  },
  {
   "cell_type": "code",
   "execution_count": null,
   "metadata": {},
   "outputs": [],
   "source": []
  }
 ],
 "metadata": {
  "kernelspec": {
   "display_name": ".venv",
   "language": "python",
   "name": "python3"
  },
  "language_info": {
   "codemirror_mode": {
    "name": "ipython",
    "version": 3
   },
   "file_extension": ".py",
   "mimetype": "text/x-python",
   "name": "python",
   "nbconvert_exporter": "python",
   "pygments_lexer": "ipython3",
   "version": "3.10.12"
  },
  "orig_nbformat": 4
 },
 "nbformat": 4,
 "nbformat_minor": 2
}
