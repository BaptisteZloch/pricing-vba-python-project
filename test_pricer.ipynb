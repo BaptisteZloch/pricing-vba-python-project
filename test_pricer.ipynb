{
 "cells": [
  {
   "cell_type": "code",
   "execution_count": 5,
   "metadata": {},
   "outputs": [
    {
     "name": "stderr",
     "output_type": "stream",
     "text": [
      "                                                                    \r"
     ]
    },
    {
     "name": "stdout",
     "output_type": "stream",
     "text": [
      "Elapsed time the __build_tree function: 3.76 seconds\n",
      "Elapsed time the price function: 4.24 seconds\n"
     ]
    }
   ],
   "source": [
    "from pricing_library.market import Market\n",
    "from pricing_library.option import Option\n",
    "from pricing_library.trinomial_tree import TrinomialTree\n",
    "\n",
    "from datetime import datetime\n",
    "\n",
    "t = TrinomialTree(\n",
    "    market=Market(\n",
    "        interest_rate=0.04,\n",
    "        volatility=0.25,\n",
    "        spot_price=100,\n",
    "        dividend_price=0,\n",
    "        dividend_ex_date=datetime(2024, 5, 24),\n",
    "    ),\n",
    "    pricing_date=datetime(2023, 9, 20),\n",
    "    n_steps=400,\n",
    ")\n",
    "price = t.price(\n",
    "    opt=Option(\n",
    "        option_type=\"call\",\n",
    "        exercise_type=\"eu\",\n",
    "        strike_price=100,\n",
    "        maturity_date=datetime(2024, 9, 19),\n",
    "    ),\n",
    "    # draw_tree=True\n",
    ")"
   ]
  },
  {
   "cell_type": "code",
   "execution_count": 6,
   "metadata": {},
   "outputs": [
    {
     "data": {
      "text/plain": [
       "12.821476342285544"
      ]
     },
     "execution_count": 6,
     "metadata": {},
     "output_type": "execute_result"
    }
   ],
   "source": [
    "price\n"
   ]
  },
  {
   "cell_type": "code",
   "execution_count": 3,
   "metadata": {},
   "outputs": [
    {
     "data": {
      "text/plain": [
       "Node<spot price: 100.00, next mid price: : 100.01, next up price: 102.20, next down price: 97.87, variance: 1.56, p down: 0.17, p mid: 0.67, p up: 0.16, current date: 2023-09-20 00:00:00, option value: 11.78>"
      ]
     },
     "execution_count": 3,
     "metadata": {},
     "output_type": "execute_result"
    }
   ],
   "source": [
    "t.root\n"
   ]
  },
  {
   "cell_type": "code",
   "execution_count": 4,
   "metadata": {},
   "outputs": [],
   "source": [
    "# params = {\"n\": 2000,\n",
    "#           \"s0\": 100,\n",
    "#           \"vol\": 0.25,\n",
    "#           \"rate\": 0.04,\n",
    "#           \"strike\": 102,\n",
    "#           \"maturity\": datetime.date(year=2024, month=9, day=19),\n",
    "#           \"t0\": datetime.date(year=2023, month=9, day=20),\n",
    "#           \"market\": \"european\",\n",
    "#           \"div\": 0\n",
    "#           }"
   ]
  }
 ],
 "metadata": {
  "kernelspec": {
   "display_name": ".venv",
   "language": "python",
   "name": "python3"
  },
  "language_info": {
   "codemirror_mode": {
    "name": "ipython",
    "version": 3
   },
   "file_extension": ".py",
   "mimetype": "text/x-python",
   "name": "python",
   "nbconvert_exporter": "python",
   "pygments_lexer": "ipython3",
   "version": "3.10.12"
  },
  "orig_nbformat": 4
 },
 "nbformat": 4,
 "nbformat_minor": 2
}
