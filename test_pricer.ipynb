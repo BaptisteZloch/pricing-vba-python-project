{
 "cells": [
  {
   "cell_type": "code",
   "execution_count": 1,
   "metadata": {},
   "outputs": [
    {
     "name": "stderr",
     "output_type": "stream",
     "text": [
      "                                                                    "
     ]
    },
    {
     "name": "stdout",
     "output_type": "stream",
     "text": [
      "Elapsed time of the __build_tree function: 1.03 seconds\n",
      "Elapsed time of the price function: 1.13 seconds\n"
     ]
    },
    {
     "name": "stderr",
     "output_type": "stream",
     "text": [
      "\r"
     ]
    }
   ],
   "source": [
    "from pricing_library.market import Market\n",
    "from pricing_library.option import Option\n",
    "from pricing_library.trinomial_tree import TrinomialTree\n",
    "\n",
    "from datetime import datetime\n",
    "\n",
    "t = TrinomialTree(\n",
    "    market=Market(\n",
    "        interest_rate=0.02,\n",
    "        volatility=0.25,\n",
    "        spot_price=100,\n",
    "        dividend_price=3,\n",
    "        dividend_ex_date=datetime(2024, 3, 1),\n",
    "    ),\n",
    "    pricing_date=datetime(2023, 9, 1),\n",
    "    n_steps=200,\n",
    ")\n",
    "price = t.price(\n",
    "    opt=Option(\n",
    "        option_type=\"call\",\n",
    "        exercise_type=\"eu\",\n",
    "        strike_price=101,\n",
    "        maturity_date=datetime(2024, 7, 1),\n",
    "    ),\n",
    "    draw_tree=False,\n",
    ")\n",
    "# discount factor"
   ]
  },
  {
   "cell_type": "code",
   "execution_count": 2,
   "metadata": {},
   "outputs": [
    {
     "data": {
      "text/plain": [
       "7.818724127855804"
      ]
     },
     "execution_count": 2,
     "metadata": {},
     "output_type": "execute_result"
    }
   ],
   "source": [
    "price"
   ]
  },
  {
   "cell_type": "code",
   "execution_count": 3,
   "metadata": {},
   "outputs": [
    {
     "data": {
      "text/plain": [
       "(1.0283372638500476,\n",
       " 0.004164383561643835,\n",
       " 0.16900611156573606,\n",
       " 0.6666449753811816,\n",
       " 0.16434891305308233)"
      ]
     },
     "execution_count": 3,
     "metadata": {},
     "output_type": "execute_result"
    }
   ],
   "source": [
    "t.alpha, t.delta_t, t.root.p_down, t.root.p_mid, t.root.p_up"
   ]
  },
  {
   "cell_type": "code",
   "execution_count": 4,
   "metadata": {},
   "outputs": [],
   "source": [
    "# params = {\"n\": 2000,\n",
    "#           \"s0\": 100,\n",
    "#           \"vol\": 0.25,\n",
    "#           \"rate\": 0.04,\n",
    "#           \"strike\": 102,\n",
    "#           \"maturity\": datetime.date(year=2024, month=9, day=19),\n",
    "#           \"t0\": datetime.date(year=2023, month=9, day=20),\n",
    "#           \"market\": \"european\",\n",
    "#           \"div\": 0\n",
    "#           }"
   ]
  }
 ],
 "metadata": {
  "kernelspec": {
   "display_name": ".venv",
   "language": "python",
   "name": "python3"
  },
  "language_info": {
   "codemirror_mode": {
    "name": "ipython",
    "version": 3
   },
   "file_extension": ".py",
   "mimetype": "text/x-python",
   "name": "python",
   "nbconvert_exporter": "python",
   "pygments_lexer": "ipython3",
   "version": "3.11.5"
  },
  "orig_nbformat": 4
 },
 "nbformat": 4,
 "nbformat_minor": 2
}
