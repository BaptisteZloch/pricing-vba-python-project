{
 "cells": [
  {
   "cell_type": "code",
   "execution_count": 1,
   "metadata": {},
   "outputs": [
    {
     "name": "stdout",
     "output_type": "stream",
     "text": [
      "Temps d'exécution de __build_tree: 2.02 secondes\n",
      "Temps d'exécution de price: 2.64 secondes\n"
     ]
    }
   ],
   "source": [
    "from pricing_library.market import Market\n",
    "from pricing_library.option import Option\n",
    "from pricing_library.trinomial_tree import TrinomialTree\n",
    "\n",
    "from datetime import datetime\n",
    "\n",
    "# params = {\"n\": 2000,\n",
    "#           \"s0\": 100,\n",
    "#           \"vol\": 0.25,\n",
    "#           \"rate\": 0.04,\n",
    "#           \"strike\": 102,\n",
    "#           \"maturity\": datetime.date(year=2024, month=9, day=19),\n",
    "#           \"t0\": datetime.date(year=2023, month=9, day=20),\n",
    "#           \"market\": \"european\",\n",
    "#           \"div\": 0\n",
    "#           }\n",
    "\n",
    "\n",
    "mkt = Market(\n",
    "    interest_rate=0.04,\n",
    "    volatility=0.25,\n",
    "    spot_price=100,\n",
    "    dividend_price=0,\n",
    "    dividend_ex_date=datetime(2024, 5, 24),\n",
    ")\n",
    "opt = Option(\n",
    "    option_type=\"call\",\n",
    "    exercise_type=\"eu\",\n",
    "    strike_price=102,\n",
    "    maturity_date=datetime(2024, 9, 19),\n",
    ")\n",
    "\n",
    "\n",
    "t = TrinomialTree(\n",
    "    market=mkt, pricing_date=datetime(2023, 9, 20), n_steps=500\n",
    ")\n",
    "price = t.price(opt=opt)"
   ]
  },
  {
   "cell_type": "code",
   "execution_count": 2,
   "metadata": {},
   "outputs": [
    {
     "data": {
      "text/plain": [
       "11.782052065460416"
      ]
     },
     "execution_count": 2,
     "metadata": {},
     "output_type": "execute_result"
    }
   ],
   "source": [
    "price"
   ]
  },
  {
   "cell_type": "code",
   "execution_count": 3,
   "metadata": {},
   "outputs": [
    {
     "data": {
      "text/plain": [
       "Node<spot price: 100.00, next mid price: : 100.01, next up price: 101.96, next down price: 98.09, variance: 1.25, p down: 0.17, p mid: 0.67, p up: 0.17, current date: 2023-09-20 00:00:00, option value: 11.78>"
      ]
     },
     "execution_count": 3,
     "metadata": {},
     "output_type": "execute_result"
    }
   ],
   "source": [
    "t.root"
   ]
  },
  {
   "cell_type": "code",
   "execution_count": null,
   "metadata": {},
   "outputs": [],
   "source": [
    "t.root.next_mid_node"
   ]
  },
  {
   "cell_type": "code",
   "execution_count": null,
   "metadata": {},
   "outputs": [],
   "source": [
    "t.root.nb_nodes"
   ]
  },
  {
   "cell_type": "code",
   "execution_count": null,
   "metadata": {},
   "outputs": [],
   "source": [
    "\n",
    "#            -\n",
    "#         -  -\n",
    "#     -   -  -\n",
    "# -   -   -  -\n",
    "#     -   -  -\n",
    "#         -  -\n",
    "#            -"
   ]
  },
  {
   "cell_type": "code",
   "execution_count": null,
   "metadata": {},
   "outputs": [],
   "source": []
  }
 ],
 "metadata": {
  "kernelspec": {
   "display_name": ".venv",
   "language": "python",
   "name": "python3"
  },
  "language_info": {
   "codemirror_mode": {
    "name": "ipython",
    "version": 3
   },
   "file_extension": ".py",
   "mimetype": "text/x-python",
   "name": "python",
   "nbconvert_exporter": "python",
   "pygments_lexer": "ipython3",
   "version": "3.10.12"
  },
  "orig_nbformat": 4
 },
 "nbformat": 4,
 "nbformat_minor": 2
}
