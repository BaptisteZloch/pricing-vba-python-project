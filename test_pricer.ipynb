{
 "cells": [
  {
   "cell_type": "code",
   "execution_count": 1,
   "metadata": {},
   "outputs": [],
   "source": [
    "from pricing_library.market import MarketData\n",
    "from pricing_library.option import Option\n",
    "from pricing_library.trinomial_tree import TrinomialTree\n",
    "\n",
    "from datetime import datetime\n"
   ]
  },
  {
   "cell_type": "code",
   "execution_count": 9,
   "metadata": {},
   "outputs": [],
   "source": [
    "mkt = MarketData(\n",
    "    interest_rate=0.04,\n",
    "    volatility=0.25,\n",
    "    spot_price=100,\n",
    "    dividend_price=0,\n",
    "    dividend_ex_date=datetime(2024, 5, 24),\n",
    ")\n",
    "opt = Option(\n",
    "    option_type=\"put\",\n",
    "    exercise_type=\"eu\",\n",
    "    strike_price=102,\n",
    "    maturity_date=datetime(2024, 9, 20),\n",
    ")\n",
    "\n",
    "\n",
    "t = TrinomialTree(\n",
    "    market=mkt, pricing_date=datetime(2023, 9, 23), n_steps=100\n",
    ")\n",
    "price = t.price(opt=opt)"
   ]
  },
  {
   "cell_type": "code",
   "execution_count": 10,
   "metadata": {},
   "outputs": [
    {
     "data": {
      "text/plain": [
       "20.186409203179302"
      ]
     },
     "execution_count": 10,
     "metadata": {},
     "output_type": "execute_result"
    }
   ],
   "source": [
    "price"
   ]
  },
  {
   "cell_type": "code",
   "execution_count": 4,
   "metadata": {},
   "outputs": [
    {
     "data": {
      "text/plain": [
       "16"
      ]
     },
     "execution_count": 4,
     "metadata": {},
     "output_type": "execute_result"
    }
   ],
   "source": [
    "t.root.nb_nodes"
   ]
  },
  {
   "cell_type": "code",
   "execution_count": 5,
   "metadata": {},
   "outputs": [
    {
     "data": {
      "text/plain": [
       "0.010027397260273973"
      ]
     },
     "execution_count": 5,
     "metadata": {},
     "output_type": "execute_result"
    }
   ],
   "source": [
    "steps = 100\n",
    "\n",
    "start = datetime(2024, 9, 20)\n",
    "end = datetime(2023, 9, 20)\n",
    "\n",
    "\n",
    "\n",
    "delta_t = abs(\n",
    "            ((start-end).days / steps) / 365\n",
    "        )\n",
    "delta_t"
   ]
  },
  {
   "cell_type": "code",
   "execution_count": 6,
   "metadata": {},
   "outputs": [],
   "source": [
    "\n",
    "#            -\n",
    "#         -  -\n",
    "#     -   -  -\n",
    "# -   -   -  -\n",
    "#     -   -  -\n",
    "#         -  -\n",
    "#            -"
   ]
  },
  {
   "cell_type": "code",
   "execution_count": null,
   "metadata": {},
   "outputs": [],
   "source": []
  }
 ],
 "metadata": {
  "kernelspec": {
   "display_name": ".venv",
   "language": "python",
   "name": "python3"
  },
  "language_info": {
   "codemirror_mode": {
    "name": "ipython",
    "version": 3
   },
   "file_extension": ".py",
   "mimetype": "text/x-python",
   "name": "python",
   "nbconvert_exporter": "python",
   "pygments_lexer": "ipython3",
   "version": "3.10.12"
  },
  "orig_nbformat": 4
 },
 "nbformat": 4,
 "nbformat_minor": 2
}
