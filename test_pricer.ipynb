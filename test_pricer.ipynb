{
 "cells": [
  {
   "cell_type": "code",
   "execution_count": 1,
   "metadata": {},
   "outputs": [
    {
     "name": "stderr",
     "output_type": "stream",
     "text": [
      "                                                       "
     ]
    },
    {
     "name": "stdout",
     "output_type": "stream",
     "text": [
      "Elapsed time the __build_tree function: 0.01 seconds\n",
      "Elapsed time the price function: 0.01 seconds\n"
     ]
    },
    {
     "name": "stderr",
     "output_type": "stream",
     "text": [
      "\r"
     ]
    }
   ],
   "source": [
    "from pricing_library.market import Market\n",
    "from pricing_library.option import Option\n",
    "from pricing_library.trinomial_tree import TrinomialTree\n",
    "\n",
    "from datetime import datetime\n",
    "\n",
    "t = TrinomialTree(\n",
    "    market=Market(\n",
    "        interest_rate=0.04,\n",
    "        volatility=0.25,\n",
    "        spot_price=100,\n",
    "        dividend_price=0,\n",
    "        dividend_ex_date=datetime(2024, 5, 24),\n",
    "    ),\n",
    "    pricing_date=datetime(2023, 9, 20),\n",
    "    n_steps=1,\n",
    ")\n",
    "price = t.price(\n",
    "    opt=Option(\n",
    "        option_type=\"call\",\n",
    "        exercise_type=\"eu\",\n",
    "        strike_price=102,\n",
    "        maturity_date=datetime(2024, 9, 19),\n",
    "    ),\n",
    "    # draw_tree=True\n",
    ")"
   ]
  },
  {
   "cell_type": "code",
   "execution_count": 2,
   "metadata": {},
   "outputs": [
    {
     "data": {
      "text/plain": [
       "9.541798983778728"
      ]
     },
     "execution_count": 2,
     "metadata": {},
     "output_type": "execute_result"
    }
   ],
   "source": [
    "price\n"
   ]
  },
  {
   "cell_type": "code",
   "execution_count": 3,
   "metadata": {},
   "outputs": [
    {
     "data": {
      "text/plain": [
       "Node<spot price: 100.00, next mid price: : 104.08, next up price: 160.48, next down price: 67.50, variance: 698.66, p down: 0.21, p mid: 0.66, p up: 0.13, current date: 2023-09-20 00:00:00, option value: 9.54>"
      ]
     },
     "execution_count": 3,
     "metadata": {},
     "output_type": "execute_result"
    }
   ],
   "source": [
    "t.root\n"
   ]
  },
  {
   "cell_type": "code",
   "execution_count": 4,
   "metadata": {},
   "outputs": [
    {
     "data": {
      "text/plain": [
       "TrinomialTree<1 steps, delta_t: 1.000, alpha: 1.542, root: Node<spot price: 100.00, next mid price: : 104.08, next up price: 160.48, next down price: 67.50, variance: 698.66, p down: 0.21, p mid: 0.66, p up: 0.13, current date: 2023-09-20 00:00:00, option value: 9.54\n",
       " next mid node: Node<spot price: 104.08, next mid price: : 108.33, next up price: 167.03, next down price: 70.26, variance: 756.85, p down: 0.21, p mid: 0.66, p up: 0.13, current date: 2024-09-19 00:00:00, option value: 2.08>\n",
       " next lower node: Node<spot price: 67.50, next mid price: : 70.26, next up price: 108.33, next down price: 45.57, variance: 318.35, p down: 0.21, p mid: 0.66, p up: 0.13, current date: 2024-09-19 00:00:00, option value: 0.00>\n",
       " next upper node: Node<spot price: 160.48, next mid price: : 167.03, next up price: 257.55, next down price: 108.33, variance: 1799.37, p down: 0.21, p mid: 0.66, p up: 0.13, current date: 2024-09-19 00:00:00, option value: 58.48>>>"
      ]
     },
     "execution_count": 4,
     "metadata": {},
     "output_type": "execute_result"
    }
   ],
   "source": [
    "t"
   ]
  },
  {
   "cell_type": "code",
   "execution_count": 5,
   "metadata": {},
   "outputs": [],
   "source": [
    "# params = {\"n\": 2000,\n",
    "#           \"s0\": 100,\n",
    "#           \"vol\": 0.25,\n",
    "#           \"rate\": 0.04,\n",
    "#           \"strike\": 102,\n",
    "#           \"maturity\": datetime.date(year=2024, month=9, day=19),\n",
    "#           \"t0\": datetime.date(year=2023, month=9, day=20),\n",
    "#           \"market\": \"european\",\n",
    "#           \"div\": 0\n",
    "#           }"
   ]
  }
 ],
 "metadata": {
  "kernelspec": {
   "display_name": ".venv",
   "language": "python",
   "name": "python3"
  },
  "language_info": {
   "codemirror_mode": {
    "name": "ipython",
    "version": 3
   },
   "file_extension": ".py",
   "mimetype": "text/x-python",
   "name": "python",
   "nbconvert_exporter": "python",
   "pygments_lexer": "ipython3",
   "version": "3.10.12"
  },
  "orig_nbformat": 4
 },
 "nbformat": 4,
 "nbformat_minor": 2
}
