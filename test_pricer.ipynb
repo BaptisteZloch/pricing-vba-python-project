{
 "cells": [
  {
   "cell_type": "code",
   "execution_count": 1,
   "metadata": {},
   "outputs": [],
   "source": [
    "from pricing_library.market import Market\n",
    "from pricing_library.option import Option\n",
    "from pricing_library.trinomial_tree import TrinomialTree\n",
    "from pricing_library.greeks import delta\n",
    "from datetime import datetime\n",
    "\n",
    "\n",
    "opt = Option(\n",
    "    option_type=\"call\",\n",
    "    exercise_type=\"eu\",\n",
    "    strike_price=101,\n",
    "    maturity_date=datetime(2024, 7, 1),\n",
    ")\n",
    "mkt = Market(\n",
    "    interest_rate=0.02,\n",
    "    volatility=0.25,\n",
    "    spot_price=100,\n",
    "    dividend_price=0,\n",
    "    dividend_ex_date=datetime(2024, 3, 1),\n",
    ")\n",
    "pricing_date = datetime(2023, 9, 1)"
   ]
  },
  {
   "cell_type": "code",
   "execution_count": 2,
   "metadata": {},
   "outputs": [
    {
     "ename": "BrokenProcessPool",
     "evalue": "A process in the process pool was terminated abruptly while the future was running or pending.",
     "output_type": "error",
     "traceback": [
      "\u001b[1;31m---------------------------------------------------------------------------\u001b[0m",
      "\u001b[1;31mBrokenProcessPool\u001b[0m                         Traceback (most recent call last)",
      "\u001b[1;32mc:\\_sharedFS\\Ecole\\VBA_Python\\pricing-vba-python-project\\test_pricer.ipynb Cell 2\u001b[0m line \u001b[0;36m1\n\u001b[1;32m----> <a href='vscode-notebook-cell:/c%3A/_sharedFS/Ecole/VBA_Python/pricing-vba-python-project/test_pricer.ipynb#W5sZmlsZQ%3D%3D?line=0'>1</a>\u001b[0m delta(mkt, \u001b[39m100\u001b[39;49m, pricing_date, opt, \u001b[39m0.01\u001b[39;49m)\n",
      "File \u001b[1;32mc:\\_sharedFS\\Ecole\\VBA_Python\\pricing-vba-python-project\\pricing_library\\greeks.py:71\u001b[0m, in \u001b[0;36mdelta\u001b[1;34m(mkt, n_steps, pricing_date, opt, h)\u001b[0m\n\u001b[0;32m     52\u001b[0m     processes \u001b[39m=\u001b[39m [\n\u001b[0;32m     53\u001b[0m         executor\u001b[39m.\u001b[39msubmit(\n\u001b[0;32m     54\u001b[0m             TrinomialTree(\n\u001b[1;32m   (...)\u001b[0m\n\u001b[0;32m     67\u001b[0m         \u001b[39mfor\u001b[39;00m spot \u001b[39min\u001b[39;00m [mkt_spot_up, mkt_spot_down]\n\u001b[0;32m     68\u001b[0m     ]\n\u001b[0;32m     70\u001b[0m \u001b[39mfor\u001b[39;00m task \u001b[39min\u001b[39;00m as_completed(processes):\n\u001b[1;32m---> 71\u001b[0m     \u001b[39mprint\u001b[39m(task\u001b[39m.\u001b[39;49mresult())\n\u001b[0;32m     73\u001b[0m \u001b[39mreturn\u001b[39;00m (price_up \u001b[39m-\u001b[39m price_down) \u001b[39m/\u001b[39m (mkt_spot_up \u001b[39m-\u001b[39m mkt_spot_down)\n",
      "File \u001b[1;32m~\\AppData\\Local\\Programs\\Python\\Python311\\Lib\\concurrent\\futures\\_base.py:449\u001b[0m, in \u001b[0;36mFuture.result\u001b[1;34m(self, timeout)\u001b[0m\n\u001b[0;32m    447\u001b[0m     \u001b[39mraise\u001b[39;00m CancelledError()\n\u001b[0;32m    448\u001b[0m \u001b[39melif\u001b[39;00m \u001b[39mself\u001b[39m\u001b[39m.\u001b[39m_state \u001b[39m==\u001b[39m FINISHED:\n\u001b[1;32m--> 449\u001b[0m     \u001b[39mreturn\u001b[39;00m \u001b[39mself\u001b[39;49m\u001b[39m.\u001b[39;49m__get_result()\n\u001b[0;32m    451\u001b[0m \u001b[39mself\u001b[39m\u001b[39m.\u001b[39m_condition\u001b[39m.\u001b[39mwait(timeout)\n\u001b[0;32m    453\u001b[0m \u001b[39mif\u001b[39;00m \u001b[39mself\u001b[39m\u001b[39m.\u001b[39m_state \u001b[39min\u001b[39;00m [CANCELLED, CANCELLED_AND_NOTIFIED]:\n",
      "File \u001b[1;32m~\\AppData\\Local\\Programs\\Python\\Python311\\Lib\\concurrent\\futures\\_base.py:401\u001b[0m, in \u001b[0;36mFuture.__get_result\u001b[1;34m(self)\u001b[0m\n\u001b[0;32m    399\u001b[0m \u001b[39mif\u001b[39;00m \u001b[39mself\u001b[39m\u001b[39m.\u001b[39m_exception:\n\u001b[0;32m    400\u001b[0m     \u001b[39mtry\u001b[39;00m:\n\u001b[1;32m--> 401\u001b[0m         \u001b[39mraise\u001b[39;00m \u001b[39mself\u001b[39m\u001b[39m.\u001b[39m_exception\n\u001b[0;32m    402\u001b[0m     \u001b[39mfinally\u001b[39;00m:\n\u001b[0;32m    403\u001b[0m         \u001b[39m# Break a reference cycle with the exception in self._exception\u001b[39;00m\n\u001b[0;32m    404\u001b[0m         \u001b[39mself\u001b[39m \u001b[39m=\u001b[39m \u001b[39mNone\u001b[39;00m\n",
      "\u001b[1;31mBrokenProcessPool\u001b[0m: A process in the process pool was terminated abruptly while the future was running or pending."
     ]
    }
   ],
   "source": [
    "delta(mkt, 100, pricing_date, opt, 0.01)"
   ]
  },
  {
   "cell_type": "code",
   "execution_count": null,
   "metadata": {},
   "outputs": [],
   "source": [
    "t = TrinomialTree(\n",
    "    market=mkt,\n",
    "    pricing_date=pricing_date,\n",
    "    n_steps=100,\n",
    ")\n",
    "price = t.price(\n",
    "    opt=opt,\n",
    "    draw_tree=False,\n",
    ")\n",
    "# discount factor"
   ]
  },
  {
   "cell_type": "code",
   "execution_count": null,
   "metadata": {},
   "outputs": [],
   "source": [
    "price"
   ]
  },
  {
   "cell_type": "code",
   "execution_count": null,
   "metadata": {},
   "outputs": [],
   "source": [
    "t.alpha, t.delta_t, t.root.p_down, t.root.p_mid, t.root.p_up"
   ]
  },
  {
   "cell_type": "code",
   "execution_count": null,
   "metadata": {},
   "outputs": [],
   "source": [
    "# params = {\"n\": 2000,\n",
    "#           \"s0\": 100,\n",
    "#           \"vol\": 0.25,\n",
    "#           \"rate\": 0.04,\n",
    "#           \"strike\": 102,\n",
    "#           \"maturity\": datetime.date(year=2024, month=9, day=19),\n",
    "#           \"t0\": datetime.date(year=2023, month=9, day=20),\n",
    "#           \"market\": \"european\",\n",
    "#           \"div\": 0\n",
    "#           }"
   ]
  }
 ],
 "metadata": {
  "kernelspec": {
   "display_name": ".venv",
   "language": "python",
   "name": "python3"
  },
  "language_info": {
   "codemirror_mode": {
    "name": "ipython",
    "version": 3
   },
   "file_extension": ".py",
   "mimetype": "text/x-python",
   "name": "python",
   "nbconvert_exporter": "python",
   "pygments_lexer": "ipython3",
   "version": "3.11.5"
  },
  "orig_nbformat": 4
 },
 "nbformat": 4,
 "nbformat_minor": 2
}
