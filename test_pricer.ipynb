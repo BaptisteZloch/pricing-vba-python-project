{
 "cells": [
  {
   "cell_type": "code",
   "execution_count": 1,
   "metadata": {},
   "outputs": [],
   "source": [
    "from pricing_library.market import MarketData\n",
    "from pricing_library.option import Option\n",
    "from pricing_library.trinomial_tree import TrinomialTree\n",
    "\n",
    "from datetime import datetime"
   ]
  },
  {
   "cell_type": "code",
   "execution_count": 2,
   "metadata": {},
   "outputs": [],
   "source": [
    "mkt = MarketData(\n",
    "    interest_rate=0.04,\n",
    "    volatility=0.2,\n",
    "    spot_price=100,\n",
    "    dividend_price=3,\n",
    "    dividend_ex_date=datetime(2020, 6, 1),\n",
    ")\n",
    "opt = Option(\n",
    "    option_type=\"call\",\n",
    "    exercise_type=\"eu\",\n",
    "    strike_price=100,\n",
    "    maturity_date=datetime(2021, 1, 1),\n",
    ")\n",
    "\n",
    "t = TrinomialTree(mkt, opt, datetime(2020, 1, 1), 100)"
   ]
  },
  {
   "cell_type": "code",
   "execution_count": 3,
   "metadata": {},
   "outputs": [
    {
     "data": {
      "text/plain": [
       "<pricing_library.node.Node at 0x7f46dc01f760>"
      ]
     },
     "execution_count": 3,
     "metadata": {},
     "output_type": "execute_result"
    }
   ],
   "source": [
    "t.root"
   ]
  },
  {
   "cell_type": "code",
   "execution_count": null,
   "metadata": {},
   "outputs": [],
   "source": []
  }
 ],
 "metadata": {
  "kernelspec": {
   "display_name": ".venv",
   "language": "python",
   "name": "python3"
  },
  "language_info": {
   "codemirror_mode": {
    "name": "ipython",
    "version": 3
   },
   "file_extension": ".py",
   "mimetype": "text/x-python",
   "name": "python",
   "nbconvert_exporter": "python",
   "pygments_lexer": "ipython3",
   "version": "3.10.12"
  },
  "orig_nbformat": 4
 },
 "nbformat": 4,
 "nbformat_minor": 2
}
