{
 "cells": [
  {
   "cell_type": "code",
   "execution_count": null,
   "metadata": {},
   "outputs": [],
   "source": [
    "from pricing_library.market import MarketData\n",
    "from pricing_library.option import Option\n",
    "from pricing_library.trinomial_tree import TrinomialTree\n",
    "\n",
    "from datetime import datetime\n"
   ]
  },
  {
   "cell_type": "code",
   "execution_count": 13,
   "metadata": {},
   "outputs": [],
   "source": [
    "mkt = MarketData(\n",
    "    interest_rate=0.04,\n",
    "    volatility=0.25,\n",
    "    spot_price=100,\n",
    "    dividend_price=0,\n",
    "    dividend_ex_date=datetime(2024, 5, 24),\n",
    ")\n",
    "opt = Option(\n",
    "    option_type=\"call\",\n",
    "    exercise_type=\"eu\",\n",
    "    strike_price=102,\n",
    "    maturity_date=datetime(2024, 9, 20),\n",
    ")\n",
    "\n",
    "\n",
    "t = TrinomialTree(\n",
    "    market=mkt, option=opt, pricing_date=datetime(2023, 9, 23), n_steps=1\n",
    ")"
   ]
  },
  {
   "cell_type": "code",
   "execution_count": 14,
   "metadata": {},
   "outputs": [
    {
     "data": {
      "text/plain": [
       "TrinomialTree<1 steps, delta_t: 0.9945205479452055, alpha: 1.5400651737345954, root: Node<spot price: 100, next mid price: : 104.05826762809207, next up price: 160.25651401317864, next down price: 67.56744415936308, variance: 694.4071901856894, p down: 0.3386162385082435, p mid: 0.44151239222553706, p up: 0.21987136926621936, option value: 11.20470560076275>>"
      ]
     },
     "execution_count": 14,
     "metadata": {},
     "output_type": "execute_result"
    }
   ],
   "source": [
    "t\n"
   ]
  },
  {
   "cell_type": "code",
   "execution_count": 15,
   "metadata": {},
   "outputs": [
    {
     "data": {
      "text/plain": [
       "Node<spot price: 100, next mid price: : 104.05826762809207, next up price: 160.25651401317864, next down price: 67.56744415936308, variance: 694.4071901856894, p down: 0.3386162385082435, p mid: 0.44151239222553706, p up: 0.21987136926621936, option value: 11.20470560076275>"
      ]
     },
     "execution_count": 15,
     "metadata": {},
     "output_type": "execute_result"
    }
   ],
   "source": [
    "t.root\n"
   ]
  },
  {
   "cell_type": "code",
   "execution_count": null,
   "metadata": {},
   "outputs": [],
   "source": []
  },
  {
   "cell_type": "code",
   "execution_count": null,
   "metadata": {},
   "outputs": [],
   "source": []
  }
 ],
 "metadata": {
  "kernelspec": {
   "display_name": ".venv",
   "language": "python",
   "name": "python3"
  },
  "language_info": {
   "codemirror_mode": {
    "name": "ipython",
    "version": 3
   },
   "file_extension": ".py",
   "mimetype": "text/x-python",
   "name": "python",
   "nbconvert_exporter": "python",
   "pygments_lexer": "ipython3",
   "version": "3.10.12"
  },
  "orig_nbformat": 4
 },
 "nbformat": 4,
 "nbformat_minor": 2
}
