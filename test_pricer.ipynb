{
 "cells": [
  {
   "cell_type": "code",
   "execution_count": 1,
   "metadata": {},
   "outputs": [],
   "source": [
    "from pricing_library.market import Market\n",
    "from pricing_library.option import Option\n",
    "from pricing_library.trinomial_tree import TrinomialTree\n",
    "from pricing_library.greeks import delta, vega, gamma\n",
    "from pricing_library.black_scholes import BlackScholesOptionPricing\n",
    "from datetime import datetime\n",
    "\n",
    "\n",
    "opt = Option(\n",
    "    option_type=\"call\",\n",
    "    exercise_type=\"eu\",\n",
    "    strike_price=101,\n",
    "    maturity_date=datetime(2024, 7, 1),\n",
    ")\n",
    "mkt = Market(\n",
    "    interest_rate=0.02,\n",
    "    volatility=0.25,\n",
    "    spot_price=100,\n",
    "    dividend_price=0,\n",
    "    dividend_ex_date=datetime(2024, 3, 1),\n",
    ")\n",
    "pricing_date = datetime(2023, 9, 1)"
   ]
  },
  {
   "cell_type": "code",
   "execution_count": 2,
   "metadata": {},
   "outputs": [
    {
     "name": "stderr",
     "output_type": "stream",
     "text": [
      "                                                                   \r"
     ]
    },
    {
     "name": "stdout",
     "output_type": "stream",
     "text": [
      "Elapsed time of the __build_tree function: 0.30 seconds\n",
      "Elapsed time of the price function: 0.35 seconds\n"
     ]
    }
   ],
   "source": [
    "t = TrinomialTree(\n",
    "    market=mkt,\n",
    "    pricing_date=pricing_date,\n",
    "    n_steps=100,\n",
    ")\n",
    "price = t.price(\n",
    "    opt=opt,\n",
    "    draw_tree=False,\n",
    ")\n",
    "# discount factor"
   ]
  },
  {
   "cell_type": "code",
   "execution_count": 3,
   "metadata": {},
   "outputs": [
    {
     "data": {
      "text/plain": [
       "9.38661054605497"
      ]
     },
     "execution_count": 3,
     "metadata": {},
     "output_type": "execute_result"
    }
   ],
   "source": [
    "price"
   ]
  },
  {
   "cell_type": "code",
   "execution_count": 4,
   "metadata": {},
   "outputs": [
    {
     "name": "stderr",
     "output_type": "stream",
     "text": [
      "                                                                     \r"
     ]
    },
    {
     "name": "stdout",
     "output_type": "stream",
     "text": [
      "Elapsed time of the __build_tree function: 13.10 seconds\n",
      "Elapsed time of the price function: 15.32 seconds\n"
     ]
    },
    {
     "name": "stderr",
     "output_type": "stream",
     "text": [
      "                                                                     \r"
     ]
    },
    {
     "name": "stdout",
     "output_type": "stream",
     "text": [
      "Elapsed time of the __build_tree function: 13.62 seconds\n",
      "Elapsed time of the price function: 15.88 seconds\n",
      "Delta: 0.557173728994826, BS : 0.557042531068875\n"
     ]
    },
    {
     "name": "stderr",
     "output_type": "stream",
     "text": [
      "                                                                     \r"
     ]
    },
    {
     "name": "stdout",
     "output_type": "stream",
     "text": [
      "Elapsed time of the __build_tree function: 17.31 seconds\n",
      "Elapsed time of the price function: 19.61 seconds\n"
     ]
    },
    {
     "name": "stderr",
     "output_type": "stream",
     "text": [
      "                                                                     \r"
     ]
    },
    {
     "name": "stdout",
     "output_type": "stream",
     "text": [
      "Elapsed time of the __build_tree function: 13.50 seconds\n",
      "Elapsed time of the price function: 16.78 seconds\n"
     ]
    },
    {
     "name": "stderr",
     "output_type": "stream",
     "text": [
      "                                                                     \r"
     ]
    },
    {
     "name": "stdout",
     "output_type": "stream",
     "text": [
      "Elapsed time of the __build_tree function: 12.82 seconds\n",
      "Elapsed time of the price function: 15.93 seconds\n",
      "Gamma: 0.004057843394671856, BS : 0.01730651790514905\n"
     ]
    },
    {
     "name": "stderr",
     "output_type": "stream",
     "text": [
      "                                                                     \r"
     ]
    },
    {
     "name": "stdout",
     "output_type": "stream",
     "text": [
      "Elapsed time of the __build_tree function: 14.55 seconds\n",
      "Elapsed time of the price function: 17.12 seconds\n"
     ]
    },
    {
     "name": "stderr",
     "output_type": "stream",
     "text": [
      "                                                                     \r"
     ]
    },
    {
     "name": "stdout",
     "output_type": "stream",
     "text": [
      "Elapsed time of the __build_tree function: 13.44 seconds\n",
      "Elapsed time of the price function: 15.70 seconds\n",
      "Vega: 36.041983522196794, BS : 36.035489336748704\n"
     ]
    }
   ],
   "source": [
    "d = delta(mkt, 1000, pricing_date, opt, 0.01)\n",
    "print(\n",
    "    f\"Delta: {d}, BS : {BlackScholesOptionPricing(opt, pricing_date, mkt).calculate_delta()}\"\n",
    ")\n",
    "g = gamma(mkt, 1000, pricing_date, opt, 0.01)\n",
    "print(\n",
    "    f\"Gamma: {g}, BS : {BlackScholesOptionPricing(opt, pricing_date, mkt).calculate_gamma()}\"\n",
    ")\n",
    "v = vega(mkt, 1000, pricing_date, opt, 0.01)\n",
    "print(\n",
    "    f\"Vega: {v}, BS : {BlackScholesOptionPricing(opt, pricing_date, mkt).calculate_vega()}\"\n",
    ")"
   ]
  },
  {
   "cell_type": "code",
   "execution_count": null,
   "metadata": {},
   "outputs": [],
   "source": [
    "# params = {\"n\": 2000,\n",
    "#           \"s0\": 100,\n",
    "#           \"vol\": 0.25,\n",
    "#           \"rate\": 0.04,\n",
    "#           \"strike\": 102,\n",
    "#           \"maturity\": datetime.date(year=2024, month=9, day=19),\n",
    "#           \"t0\": datetime.date(year=2023, month=9, day=20),\n",
    "#           \"market\": \"european\",\n",
    "#           \"div\": 0\n",
    "#           }"
   ]
  }
 ],
 "metadata": {
  "kernelspec": {
   "display_name": ".venv",
   "language": "python",
   "name": "python3"
  },
  "language_info": {
   "codemirror_mode": {
    "name": "ipython",
    "version": 3
   },
   "file_extension": ".py",
   "mimetype": "text/x-python",
   "name": "python",
   "nbconvert_exporter": "python",
   "pygments_lexer": "ipython3",
   "version": "3.11.5"
  },
  "orig_nbformat": 4
 },
 "nbformat": 4,
 "nbformat_minor": 2
}
