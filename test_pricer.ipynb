{
 "cells": [
  {
   "cell_type": "code",
   "execution_count": null,
   "metadata": {},
   "outputs": [],
   "source": [
    "from pricing_library.market import MarketData\n",
    "from pricing_library.option import Option\n",
    "from pricing_library.trinomial_tree import TrinomialTree\n"
   ]
  },
  {
   "cell_type": "code",
   "execution_count": null,
   "metadata": {},
   "outputs": [],
   "source": [
    "mkt = MarketData()\n",
    "opt = Option()\n",
    "\n",
    "t = TrinomialTree(mkt, opt,)"
   ]
  }
 ],
 "metadata": {
  "language_info": {
   "name": "python"
  },
  "orig_nbformat": 4
 },
 "nbformat": 4,
 "nbformat_minor": 2
}
