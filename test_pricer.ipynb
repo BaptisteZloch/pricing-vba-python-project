{
 "cells": [
  {
   "cell_type": "code",
   "execution_count": 1,
   "metadata": {},
   "outputs": [],
   "source": [
    "from pricing_library.market import MarketData\n",
    "from pricing_library.option import Option\n",
    "from pricing_library.trinomial_tree import TrinomialTree\n",
    "\n",
    "from datetime import datetime\n"
   ]
  },
  {
   "cell_type": "code",
   "execution_count": 2,
   "metadata": {},
   "outputs": [],
   "source": [
    "mkt = MarketData(\n",
    "    interest_rate=0.04,\n",
    "    volatility=0.25,\n",
    "    spot_price=100,\n",
    "    dividend_price=0,\n",
    "    dividend_ex_date=datetime(2024, 5, 24),\n",
    ")\n",
    "opt = Option(\n",
    "    option_type=\"call\",\n",
    "    exercise_type=\"eu\",\n",
    "    strike_price=102,\n",
    "    maturity_date=datetime(2024, 9, 20),\n",
    ")\n",
    "\n",
    "\n",
    "t = TrinomialTree(\n",
    "    market=mkt, option=opt, pricing_date=datetime(2023, 9, 23), n_steps=2\n",
    ")"
   ]
  },
  {
   "cell_type": "code",
   "execution_count": 3,
   "metadata": {},
   "outputs": [
    {
     "data": {
      "text/plain": [
       "TrinomialTree<2 steps, delta_t: 0.497, alpha: 1.357, root: Node<spot price: 100.00, next mid price: : 102.01, next up price: 138.44, next down price: 75.17, variance: 328.48, p down: 0.34, p mid: 0.42, p up: 0.25, option value: 8.84>>"
      ]
     },
     "execution_count": 3,
     "metadata": {},
     "output_type": "execute_result"
    }
   ],
   "source": [
    "t\n"
   ]
  },
  {
   "cell_type": "code",
   "execution_count": 4,
   "metadata": {},
   "outputs": [
    {
     "name": "stdout",
     "output_type": "stream",
     "text": [
      "Node<spot price: 100.00, next mid price: : 102.01, next up price: 138.44, next down price: 75.17, variance: 328.48, p down: 0.34, p mid: 0.42, p up: 0.25, option value: 8.84>\n"
     ]
    }
   ],
   "source": [
    "print(t.root)\n"
   ]
  },
  {
   "cell_type": "code",
   "execution_count": 5,
   "metadata": {},
   "outputs": [],
   "source": [
    "t.build_tree()"
   ]
  },
  {
   "cell_type": "code",
   "execution_count": 6,
   "metadata": {},
   "outputs": [
    {
     "data": {
      "text/plain": [
       "TrinomialTree<2 steps, delta_t: 0.497, alpha: 1.357, root: Node<spot price: 100.00, next mid price: : 102.01, next up price: 138.44, next down price: 75.17, variance: 328.48, p down: 0.34, p mid: 0.42, p up: 0.25, option value: 8.84,\n",
       " next mid node: Node<spot price: 102.01, next mid price: : 104.06, next up price: 141.22, next down price: 76.68, variance: 341.81, p down: 0.34, p mid: 0.42, p up: 0.25, option value: 8.34,\n",
       " next mid node: Node<spot price: 104.06, next mid price: : 106.15, next up price: 144.05, next down price: 78.22, variance: 355.68, p down: 0.34, p mid: 0.42, p up: 0.25, option value: 7.83>,\n",
       " next lower node: Node<spot price: 76.68, next mid price: : 78.22, next up price: 106.15, next down price: 57.64, variance: 193.13, p down: 0.34, p mid: 0.42, p up: 0.25, option value: 24.32>,\n",
       " next upper node: Node<spot price: 141.22, next mid price: : 144.05, next up price: 195.49, next down price: 106.15, variance: 655.06, p down: 0.34, p mid: 0.42, p up: 0.25, option value: 0.00>>,\n",
       " next lower node: Node<spot price: 75.17, next mid price: : 76.68, next up price: 104.06, next down price: 56.50, variance: 185.59, p down: 0.34, p mid: 0.42, p up: 0.25, option value: 25.32,\n",
       " next mid node: Node<spot price: 76.68, next mid price: : 78.22, next up price: 106.15, next down price: 57.64, variance: 193.13, p down: 0.34, p mid: 0.42, p up: 0.25, option value: 24.32>,\n",
       " next lower node: Node<spot price: 56.50, next mid price: : 57.64, next up price: 78.22, next down price: 42.47, variance: 104.86, p down: 0.34, p mid: 0.42, p up: 0.25, option value: 43.49>,\n",
       " next upper node: Node<spot price: 104.06, next mid price: : 106.15, next up price: 144.05, next down price: 78.22, variance: 355.68, p down: 0.34, p mid: 0.42, p up: 0.25, option value: 7.83>>,\n",
       " next upper node: Node<spot price: 138.44, next mid price: : 141.22, next up price: 191.64, next down price: 104.06, variance: 629.51, p down: 0.34, p mid: 0.42, p up: 0.25, option value: 0.00,\n",
       " next mid node: Node<spot price: 141.22, next mid price: : 144.05, next up price: 195.49, next down price: 106.15, variance: 655.06, p down: 0.34, p mid: 0.42, p up: 0.25, option value: 0.00>,\n",
       " next lower node: Node<spot price: 104.06, next mid price: : 106.15, next up price: 144.05, next down price: 78.22, variance: 355.68, p down: 0.34, p mid: 0.42, p up: 0.25, option value: 7.83>,\n",
       " next upper node: Node<spot price: 191.64, next mid price: : 195.49, next up price: 265.30, next down price: 144.05, variance: 1206.43, p down: 0.34, p mid: 0.42, p up: 0.25, option value: 0.00>>>>"
      ]
     },
     "execution_count": 6,
     "metadata": {},
     "output_type": "execute_result"
    }
   ],
   "source": [
    "t"
   ]
  },
  {
   "cell_type": "code",
   "execution_count": null,
   "metadata": {},
   "outputs": [],
   "source": []
  }
 ],
 "metadata": {
  "kernelspec": {
   "display_name": ".venv",
   "language": "python",
   "name": "python3"
  },
  "language_info": {
   "codemirror_mode": {
    "name": "ipython",
    "version": 3
   },
   "file_extension": ".py",
   "mimetype": "text/x-python",
   "name": "python",
   "nbconvert_exporter": "python",
   "pygments_lexer": "ipython3",
   "version": "3.10.12"
  },
  "orig_nbformat": 4
 },
 "nbformat": 4,
 "nbformat_minor": 2
}
