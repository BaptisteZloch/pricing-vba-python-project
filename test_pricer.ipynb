{
 "cells": [
  {
   "cell_type": "code",
   "execution_count": 1,
   "metadata": {},
   "outputs": [],
   "source": [
    "from pricing_library.market import MarketData\n",
    "from pricing_library.option import Option\n",
    "from pricing_library.trinomial_tree import TrinomialTree\n",
    "\n",
    "from datetime import datetime\n"
   ]
  },
  {
   "cell_type": "code",
   "execution_count": 2,
   "metadata": {},
   "outputs": [],
   "source": [
    "mkt = MarketData(\n",
    "    interest_rate=0.04,\n",
    "    volatility=0.25,\n",
    "    spot_price=100,\n",
    "    dividend_price=0,\n",
    "    dividend_ex_date=datetime(2024, 5, 24),\n",
    ")\n",
    "opt = Option(\n",
    "    option_type=\"call\",\n",
    "    exercise_type=\"eu\",\n",
    "    strike_price=102,\n",
    "    maturity_date=datetime(2024, 9, 20),\n",
    ")\n",
    "\n",
    "\n",
    "t = TrinomialTree(\n",
    "    market=mkt, option=opt, pricing_date=datetime(2023, 9, 23), n_steps=1\n",
    ")"
   ]
  },
  {
   "cell_type": "code",
   "execution_count": 3,
   "metadata": {},
   "outputs": [
    {
     "data": {
      "text/plain": [
       "TrinomialTree<1 steps, delta_t: 0.995, alpha: 1.540, root: Node<spot price: 100.00, next mid price: : 104.06, next up price: 160.26, next down price: 67.57, variance: 694.41, p down: 0.34, p mid: 0.44, p up: 0.22, option value: 11.20,\n",
       " next mid node: Node<spot price: 104.06, next mid price: : 108.28, next up price: 166.76, next down price: 70.31, variance: 751.91, p down: 0.34, p mid: 0.44, p up: 0.22, option value: 10.31>,\n",
       " next lower node: Node<spot price: 67.57, next mid price: : 70.31, next up price: 108.28, next down price: 45.65, variance: 317.02, p down: 0.34, p mid: 0.44, p up: 0.22, option value: 31.78>,\n",
       " next upper node: Node<spot price: 160.26, next mid price: : 166.76, next up price: 256.82, next down price: 108.28, variance: 1783.39, p down: 0.34, p mid: 0.44, p up: 0.22, option value: 0.00>>>"
      ]
     },
     "execution_count": 3,
     "metadata": {},
     "output_type": "execute_result"
    }
   ],
   "source": [
    "t\n"
   ]
  },
  {
   "cell_type": "code",
   "execution_count": 4,
   "metadata": {},
   "outputs": [
    {
     "name": "stdout",
     "output_type": "stream",
     "text": [
      "Node<spot price: 100.00, next mid price: : 104.06, next up price: 160.26, next down price: 67.57, variance: 694.41, p down: 0.34, p mid: 0.44, p up: 0.22, option value: 11.20,\n",
      " next mid node: Node<spot price: 104.06, next mid price: : 108.28, next up price: 166.76, next down price: 70.31, variance: 751.91, p down: 0.34, p mid: 0.44, p up: 0.22, option value: 10.31>,\n",
      " next lower node: Node<spot price: 67.57, next mid price: : 70.31, next up price: 108.28, next down price: 45.65, variance: 317.02, p down: 0.34, p mid: 0.44, p up: 0.22, option value: 31.78>,\n",
      " next upper node: Node<spot price: 160.26, next mid price: : 166.76, next up price: 256.82, next down price: 108.28, variance: 1783.39, p down: 0.34, p mid: 0.44, p up: 0.22, option value: 0.00>>\n"
     ]
    }
   ],
   "source": [
    "print(t.root)\n"
   ]
  },
  {
   "cell_type": "code",
   "execution_count": null,
   "metadata": {},
   "outputs": [],
   "source": []
  },
  {
   "cell_type": "code",
   "execution_count": null,
   "metadata": {},
   "outputs": [],
   "source": []
  }
 ],
 "metadata": {
  "kernelspec": {
   "display_name": ".venv",
   "language": "python",
   "name": "python3"
  },
  "language_info": {
   "codemirror_mode": {
    "name": "ipython",
    "version": 3
   },
   "file_extension": ".py",
   "mimetype": "text/x-python",
   "name": "python",
   "nbconvert_exporter": "python",
   "pygments_lexer": "ipython3",
   "version": "3.10.12"
  },
  "orig_nbformat": 4
 },
 "nbformat": 4,
 "nbformat_minor": 2
}
